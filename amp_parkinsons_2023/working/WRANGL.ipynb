{
 "cells": [
  {
   "attachments": {},
   "cell_type": "markdown",
   "metadata": {},
   "source": [
    "# POC feature selection and Deep Learning model for AMP Parkinson's Disease Progression Prediction "
   ]
  },
  {
   "cell_type": "code",
   "execution_count": 1,
   "metadata": {},
   "outputs": [],
   "source": [
    "import pandas as pd\n",
    "import numpy as np\n",
    "import tqdm"
   ]
  },
  {
   "cell_type": "code",
   "execution_count": 2,
   "metadata": {},
   "outputs": [],
   "source": [
    "#show more rows and columns:\n",
    "pd.set_option('display.max_rows', 500)\n",
    "pd.set_option('display.max_columns', 500)\n",
    "pd.set_option('display.width', 1000)"
   ]
  },
  {
   "cell_type": "code",
   "execution_count": 3,
   "metadata": {},
   "outputs": [],
   "source": [
    "def pipeline_deep_learning_and_feature_selection():\n",
    "\n",
    "    # drop upd23_clinical_state_on_medication column, because it is all NaN:\n",
    "    df_peptides = pd.read_csv(\"../input/amp-parkinsons-disease-progression-prediction/train_peptides.csv\")\n",
    "    df_proteins = pd.read_csv(\"../input/amp-parkinsons-disease-progression-prediction/train_proteins.csv\")\n",
    "    df_clinical = pd.read_csv(\"../input/amp-parkinsons-disease-progression-prediction/train_clinical_data.csv\")\n",
    "\n",
    "    # add a column for each peptide and protein to the clinical data\n",
    "    list_of_peptides = df_peptides[\"Peptide\"].unique()\n",
    "    list_of_proteins = df_proteins[\"UniProt\"].unique()\n",
    "\n",
    "    # add a column for each peptide and protein to the clinical data, fill with NaN:\n",
    "    for peptide in list_of_peptides:\n",
    "        df_clinical[peptide] = np.nan\n",
    "    for protein in list_of_proteins:\n",
    "        df_clinical[protein] = np.nan\n",
    "\n",
    "    print(\"current shape of the dataframe: \",df_clinical.shape)\n",
    "\n",
    "    #Fill the new empty columns with the values from the peptide and protein dataframes:\n",
    "    for index, row in tqdm.tqdm(df_peptides.iterrows()):\n",
    "        df_clinical.loc[df_clinical[\"visit_id\"] == row[\"visit_id\"], row[\"Peptide\"]] = row[\"PeptideAbundance\"]\n",
    "\n",
    "    for index, row in tqdm.tqdm(df_proteins.iterrows()):\n",
    "        df_clinical.loc[df_clinical[\"visit_id\"] == row[\"visit_id\"], row[\"UniProt\"]] = row[\"NPX\"]\n",
    "\n",
    "    df_clinical = df_clinical.drop(columns=[\"upd23b_clinical_state_on_medication\"])\n",
    "\n",
    "    df_clinical_updrs1 = df_clinical.copy()\n",
    "    df_clinical_updrs2 = df_clinical.copy()\n",
    "    df_clinical_updrs3 = df_clinical.copy()\n",
    "    df_clinical_updrs4 = df_clinical.copy()\n",
    "\n",
    "    #drop all other target columns from the copies:\n",
    "    df_clinical_updrs1 = df_clinical_updrs1.drop(columns=[\"updrs_2\", \"updrs_3\", \"updrs_4\"])\n",
    "    df_clinical_updrs2 = df_clinical_updrs2.drop(columns=[\"updrs_1\", \"updrs_3\", \"updrs_4\"])\n",
    "    df_clinical_updrs3 = df_clinical_updrs3.drop(columns=[\"updrs_1\", \"updrs_2\", \"updrs_4\"])\n",
    "    df_clinical_updrs4 = df_clinical_updrs4.drop(columns=[\"updrs_1\", \"updrs_2\", \"updrs_3\"])\n",
    "\n",
    "\n",
    "    # do this but now with a loop over all 4 target dataframes:\n",
    "    list_of_dataframes = [df_clinical_updrs1, df_clinical_updrs2, df_clinical_updrs3, df_clinical_updrs4]\n",
    "    list_of_target_columns = [\"updrs_1\", \"updrs_2\", \"updrs_3\", \"updrs_4\"]\n",
    "\n",
    "    list_of_output_dataframes = []\n",
    "    for i in range(len(list_of_dataframes)):\n",
    "        df = list_of_dataframes[i]\n",
    "        target_column = list_of_target_columns[i]\n",
    "        df = df.dropna(subset=[target_column])\n",
    "        df = df.fillna(0)\n",
    "        df = df.drop(columns=[\"patient_id\", \"visit_id\"])\n",
    "        list_of_output_dataframes.append(df)\n",
    "    return list_of_output_dataframes\n",
    "\n"
   ]
  },
  {
   "cell_type": "code",
   "execution_count": 4,
   "metadata": {},
   "outputs": [
    {
     "name": "stderr",
     "output_type": "stream",
     "text": [
      "981834it [03:05, 5283.91it/s]\n",
      "232741it [00:43, 5395.44it/s]\n"
     ]
    },
    {
     "ename": "IndexError",
     "evalue": "list assignment index out of range",
     "output_type": "error",
     "traceback": [
      "\u001b[0;31m---------------------------------------------------------------------------\u001b[0m",
      "\u001b[0;31mIndexError\u001b[0m                                Traceback (most recent call last)",
      "Cell \u001b[0;32mIn[4], line 1\u001b[0m\n\u001b[0;32m----> 1\u001b[0m list_of_dataframes \u001b[39m=\u001b[39m pipeline_deep_learning_and_feature_selection()\n",
      "Cell \u001b[0;32mIn[3], line 52\u001b[0m, in \u001b[0;36mpipeline_deep_learning_and_feature_selection\u001b[0;34m()\u001b[0m\n\u001b[1;32m     50\u001b[0m     df \u001b[39m=\u001b[39m df\u001b[39m.\u001b[39mfillna(\u001b[39m0\u001b[39m)\n\u001b[1;32m     51\u001b[0m     df \u001b[39m=\u001b[39m df\u001b[39m.\u001b[39mdrop(columns\u001b[39m=\u001b[39m[\u001b[39m\"\u001b[39m\u001b[39mpatient_id\u001b[39m\u001b[39m\"\u001b[39m, \u001b[39m\"\u001b[39m\u001b[39mvisit_id\u001b[39m\u001b[39m\"\u001b[39m])\n\u001b[0;32m---> 52\u001b[0m     list_of_output_dataframes[i] \u001b[39m=\u001b[39m df\n\u001b[1;32m     53\u001b[0m \u001b[39mreturn\u001b[39;00m list_of_output_dataframes\n",
      "\u001b[0;31mIndexError\u001b[0m: list assignment index out of range"
     ]
    }
   ],
   "source": [
    "list_of_dataframes = pipeline_deep_learning_and_feature_selection()"
   ]
  },
  {
   "cell_type": "code",
   "execution_count": null,
   "metadata": {},
   "outputs": [
    {
     "data": {
      "text/plain": [
       "[]"
      ]
     },
     "execution_count": 5,
     "metadata": {},
     "output_type": "execute_result"
    }
   ],
   "source": [
    "list_of_dataframes"
   ]
  },
  {
   "cell_type": "code",
   "execution_count": null,
   "metadata": {},
   "outputs": [],
   "source": []
  },
  {
   "cell_type": "code",
   "execution_count": null,
   "metadata": {},
   "outputs": [
    {
     "data": {
      "image/png": "[encoded data removed]",
      "text/plain": [
       "<Figure size 640x480 with 1 Axes>"
      ]
     },
     "metadata": {},
     "output_type": "display_data"
    },
    {
     "name": "stdout",
     "output_type": "stream",
     "text": [
      "Index(['visit_month', 'GNPEPTFSWTK', 'TLKIENVSYQDKGNYR', 'QQETAAAETETR', 'THLGEALAPLSK', 'SEGLLAC(UniMod_4)GTNAR', 'AATVGSLAGQPLQER', 'AKLEEQAQQIR', 'DRLDEVKEQVAEVR', 'GEVQAMLGQSTEELRVR', 'LDEVKEQVAEVR', 'LEEQAQQIR', 'LGPLVEQGR', 'LQAEAFQAR', 'LSKELQAAQAR', 'WELALGR', 'LEPGQQEEYYR', 'GEAGAPGEEDIQGPTK', 'C(UniMod_4)APFFYGGC(UniMod_4)GGNR', 'VSEADIQR', 'DGGFC(UniMod_4)EVC(UniMod_4)KK', 'GLSAEPGWQAK', 'RLEGQEEEEDNRDSSMK', 'SEALAVDGAGKPGAEEAQDPEGK', 'FFLC(UniMod_4)QVAGDAK', 'LDIDSPPITAR', 'VGGVQSLGGTGALR', 'EAEEETTNDNGVLVLEPARK', 'VRQGQGQSEPGEYEQR', 'FIYGGC(UniMod_4)GGNR', 'QHVVYGPWNLPQSSYSHLTR', 'EGDMLTLFDGDGPSAR', 'TSTDLQVLAAR', 'VHKEDDGVPVIC(UniMod_4)QVEHPAVTGNLQTQR', 'QALPQVR', 'O15240', 'O75326', 'P02649', 'P05060', 'P05408', 'P10645', 'P13591', 'P14618', 'P17174', 'P43121', 'Q06481', 'Q6UXD5', 'Q96BZ4', 'Q9BY67', 'Q99829'], dtype='object')\n"
     ]
    },
    {
     "data": {
      "image/png": "[encoded data removed]",
      "text/plain": [
       "<Figure size 640x480 with 1 Axes>"
      ]
     },
     "metadata": {},
     "output_type": "display_data"
    },
    {
     "name": "stdout",
     "output_type": "stream",
     "text": [
      "Index(['TQSSLVPALTDFVR', 'SPVGVQPILNEHTFC(UniMod_4)AGMSK', 'YVMLPVADQDQC(UniMod_4)IR', 'YGLVTYATYPK', 'LSSWVLLMK', 'FMQAVTGWK', 'AGDFLEANYMNLQR', 'TMQALPYSTVGNSNNYLHLSVLR', 'TVAAPSVFIFPPSDEQLK', 'AKLEEQAQQIR', 'LGADMEDVC(UniMod_4)GR', 'C(UniMod_4)PFPSRPDNGFVNYPAKPTLYYK', 'IGDTWSK', 'GSPAINVAVHVFRK', 'DKETC(UniMod_4)FAEEGKK', 'PTLVEVSR', 'KPVEEYANC(UniMod_4)HLAR', 'VVEQMC(UniMod_4)ITQYER', 'C(UniMod_4)LAPLEGAR', 'HGGLYHENMR', 'LEAGDHPVELLAR', 'LRENELTYYC(UniMod_4)C(UniMod_4)KK', 'MPC(UniMod_4)AELVREPGC(UniMod_4)GC(UniMod_4)C(UniMod_4)SVC(UniMod_4)AR', 'VLTPTQVK', 'FVEGLPINDFSR', 'C(UniMod_4)VC(UniMod_4)PVSNAMC(UniMod_4)R', 'DQC(UniMod_4)QVDSQC(UniMod_4)PGQMK', 'LLPAQLPAEKEVGPPLPQEAVPLQK', 'LVWEEAMSR', 'VVVNFAPTIQEIK', 'SPFEQHIK', 'ARAEAQEAEDQQAR', 'KLSSWVLLMK', 'INHC(UniMod_4)RFDEFFSEGC(UniMod_4)APGSKK', 'O00391', 'O15240', 'P01608', 'P02649', 'P02747', 'P02763', 'P04156', 'P04275', 'P06454', 'P08571', 'P09486', 'P24592', 'P40925', 'Q12805', 'Q6UXD5', 'Q9UBR2'], dtype='object')\n"
     ]
    },
    {
     "ename": "TypeError",
     "evalue": "RFE.__init__() takes 2 positional arguments but 3 were given",
     "output_type": "error",
     "traceback": [
      "\u001b[0;31m---------------------------------------------------------------------------\u001b[0m",
      "\u001b[0;31mTypeError\u001b[0m                                 Traceback (most recent call last)",
      "Cell \u001b[0;32mIn[42], line 60\u001b[0m\n\u001b[1;32m     57\u001b[0m model \u001b[39m=\u001b[39m LinearRegression()\n\u001b[1;32m     59\u001b[0m \u001b[39m# create the RFE model and select 50 attributes\u001b[39;00m\n\u001b[0;32m---> 60\u001b[0m rfe \u001b[39m=\u001b[39m RFE(model, \u001b[39m50\u001b[39;49m)\n\u001b[1;32m     62\u001b[0m \u001b[39m# fit the model\u001b[39;00m\n\u001b[1;32m     63\u001b[0m rfe \u001b[39m=\u001b[39m rfe\u001b[39m.\u001b[39mfit(X, y)\n",
      "\u001b[0;31mTypeError\u001b[0m: RFE.__init__() takes 2 positional arguments but 3 were given"
     ]
    }
   ],
   "source": [
    "# Run feature selection on the updrs1 dataframe:\n",
    "\n",
    "\n",
    "import pandas as pd\n",
    "import numpy as np\n",
    "from sklearn.feature_selection import SelectKBest\n",
    "from sklearn.feature_selection import f_regression\n",
    "from sklearn.feature_selection import mutual_info_regression\n",
    "from sklearn.feature_selection import RFE\n",
    "\n",
    "\n",
    "\n",
    "# split into X and y:\n",
    "\n",
    "y = df_clinical_updrs1[\"updrs_1\"]\n",
    "X = df_clinical_updrs1.drop(columns=[\"updrs_1\"])\n",
    "\n",
    "# feature selection with SelectKBest:\n",
    "# select the 50 best features:\n",
    "\n",
    "selector = SelectKBest(f_regression, k=50)\n",
    "selector.fit(X, y)\n",
    "X_new = selector.transform(X)\n",
    "\n",
    "#plot the scores:\n",
    "import matplotlib.pyplot as plt\n",
    "plt.bar([i for i in range(len(selector.scores_))], selector.scores_)\n",
    "plt.show()\n",
    "\n",
    "# print the names of the selected features:\n",
    "selected_features = X.columns[selector.get_support()]\n",
    "print(selected_features)\n",
    "\n",
    "\n",
    "# now do the same with mutual_info_regression:\n",
    "\n",
    "selector = SelectKBest(mutual_info_regression, k=50)\n",
    "selector.fit(X, y)\n",
    "X_new = selector.transform(X)\n",
    "\n",
    "#plot the scores:\n",
    "import matplotlib.pyplot as plt\n",
    "plt.bar([i for i in range(len(selector.scores_))], selector.scores_)\n",
    "plt.show()\n",
    "\n",
    "# print the names of the selected features:\n",
    "selected_features = X.columns[selector.get_support()]\n",
    "print(selected_features)\n",
    "\n",
    "\n",
    "# now do the same with RFE:\n",
    "\n",
    "from sklearn.linear_model import LinearRegression\n",
    "from sklearn.feature_selection import RFE\n",
    "\n",
    "# create a base classifier used to evaluate a subset of attributes\n",
    "model = LinearRegression()\n",
    "\n",
    "# create the RFE model and select 50 attributes\n",
    "rfe = RFE(model, 50)\n",
    "\n",
    "# fit the model\n",
    "rfe = rfe.fit(X, y)\n",
    "\n",
    "# summarize the selection of the attributes\n",
    "print(rfe.support_)\n",
    "print(rfe.ranking_)\n",
    "print(rfe.estimator_)\n",
    "print(rfe.n_features_)\n",
    "print(rfe.n_features_to_select_)\n",
    "print(rfe.score(X, y))\n",
    "\n",
    "# print the names of the selected features:\n",
    "selected_features = X.columns[rfe.get_support()]\n",
    "print(selected_features)\n",
    "\n",
    "\n"
   ]
  },
  {
   "cell_type": "code",
   "execution_count": null,
   "metadata": {},
   "outputs": [
    {
     "name": "stdout",
     "output_type": "stream",
     "text": [
      "RMSE:  5.640451407200245\n",
      "SMAPE:  34.62012353848915\n"
     ]
    }
   ],
   "source": [
    "# train a model with the selected features:\n",
    "from sklearn.linear_model import LinearRegression\n",
    "from sklearn.model_selection import train_test_split\n",
    "from sklearn.metrics import mean_squared_error\n",
    "\n",
    "#USE SMAPE AS METRIC:\n",
    "def smape(y_true, y_pred):\n",
    "    return np.mean(np.abs(y_pred - y_true) / (np.abs(y_true) + np.abs(y_pred))) * 100\n",
    "\n",
    "\n",
    "X_train, X_test, y_train, y_test = train_test_split(X_new, y, test_size=0.2, random_state=42)\n",
    "\n",
    "model = LinearRegression()\n",
    "model.fit(X_train, y_train)\n",
    "y_pred = model.predict(X_test)\n",
    "\n",
    "print(\"RMSE: \", np.sqrt(mean_squared_error(y_test, y_pred)))\n",
    "print(\"SMAPE: \", smape(y_test, y_pred))\n",
    "\n"
   ]
  },
  {
   "cell_type": "markdown",
   "metadata": {},
   "source": []
  }
 ],
 "metadata": {
  "kernelspec": {
   "display_name": "kaggle_01_p",
   "language": "python",
   "name": "python3"
  },
  "language_info": {
   "codemirror_mode": {
    "name": "ipython",
    "version": 3
   },
   "file_extension": ".py",
   "mimetype": "text/x-python",
   "name": "python",
   "nbconvert_exporter": "python",
   "pygments_lexer": "ipython3",
   "version": "3.10.9"
  },
  "orig_nbformat": 4
 },
 "nbformat": 4,
 "nbformat_minor": 2
}
