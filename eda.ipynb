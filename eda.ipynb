{
 "cells": [
  {
   "cell_type": "markdown",
   "source": [
    "# Kaggle Tabular dataset competitions"
   ],
   "metadata": {
    "collapsed": false
   }
  },
  {
   "cell_type": "code",
   "execution_count": 23,
   "outputs": [],
   "source": [
    "# Import libraries\n",
    "import pandas as pd\n",
    "import matplotlib.pyplot as plt\n",
    "import seaborn as sns\n",
    "import os\n",
    "import tqdm\n",
    "from sklearn.metrics import log_loss\n",
    "import numpy as np\n",
    "from sklearn.model_selection import train_test_split\n",
    "from sklearn.model_selection import cross_val_score\n",
    "from sklearn.metrics import classification_report\n",
    "from hyperopt import fmin, tpe, hp, SparkTrials, Trials, STATUS_OK\n",
    "from hyperopt.pyll import scope\n",
    "import xgboost as xgb\n",
    "from sklearn.metrics import accuracy_score\n",
    "import mlflow\n",
    "import mlflow.xgboost\n",
    "import mlflow.sklearn"
   ],
   "metadata": {
    "collapsed": false
   }
  },
  {
   "cell_type": "code",
   "execution_count": 24,
   "outputs": [
    {
     "name": "stdout",
     "output_type": "stream",
     "text": [
      "/Users/m98612/venv/fradrag2021/bin/pip3\r\n"
     ]
    }
   ],
   "source": [
    "!which pip3\n"
   ],
   "metadata": {
    "collapsed": false
   }
  },
  {
   "cell_type": "markdown",
   "source": [
    "# Load the data to a dataframe"
   ],
   "metadata": {
    "collapsed": false
   }
  },
  {
   "cell_type": "code",
   "execution_count": 25,
   "outputs": [
    {
     "name": "stderr",
     "output_type": "stream",
     "text": [
      "100%|██████████| 5000/5000 [01:04<00:00, 77.73it/s]\n"
     ]
    }
   ],
   "source": [
    "\"\"\"\n",
    "Load in all data used for train and test\n",
    "\"\"\"\n",
    "# read in data from train and test csv files\n",
    "train_labels = pd.read_csv('train_labels.csv')\n",
    "#print out the first 5 rows of the train_labels dataframe\n",
    "\n",
    "\n",
    "#read all files in folder submission files as dataframes, and concatenate them into one dataframe using tqdm for progress bar\n",
    "submission_files = os.listdir('submission_files')\n",
    "submission_files = [file for file in submission_files if file.endswith('.csv')]\n",
    "submission_dfs = []\n",
    "for file in tqdm.tqdm(submission_files):\n",
    "    submission_dfs.append(pd.read_csv('submission_files/'+file)[\"pred\"])\n",
    "\n",
    "submission_df2 = pd.concat(submission_dfs, axis=1)\n",
    "\n",
    "\n",
    "#make colnames filename:\n",
    "columns = [i for i in submission_files]\n",
    "#remove .csv from columns names:\n",
    "columns = [i[:-4] for i in columns]\n",
    "submission_df2.columns = columns\n",
    "\n"
   ],
   "metadata": {
    "collapsed": false
   }
  },
  {
   "cell_type": "code",
   "execution_count": 26,
   "outputs": [
    {
     "data": {
      "text/plain": "       0.7131772137  0.6935182933  0.7260013220  0.7152632882  0.7005385368  \\\n0          0.778224      0.762953      0.764103      0.723772      0.803894   \n1          0.569151      0.572876      0.562022      0.762576      0.597722   \n2          0.851960      0.721607      0.894352      0.823561      0.813720   \n3          0.774035      0.713205      0.569785      0.827587      0.752170   \n4          0.947631      0.961040      0.915259      0.890565      0.943416   \n...             ...           ...           ...           ...           ...   \n39995      0.524607      0.475706      0.668804      0.660779      0.597722   \n39996      0.466011      0.681494      0.597660      0.604560      0.597722   \n39997      0.814648      0.749162      0.767753      0.685436      0.752170   \n39998      0.827715      0.745039      0.718799      0.633344      0.803894   \n39999      0.701078      0.601303      0.592509      0.655494      0.642109   \n\n       0.6854126675  0.7439608123  0.6945358038  0.7261839834  0.6599155304  \\\n0          0.784736      0.836666      0.775778      0.774012      0.919990   \n1          0.646278      0.555181      0.577722      0.652896      0.579136   \n2          0.798389      0.901490      0.795233      0.823106      0.841735   \n3          0.763516      0.697942      0.757559      0.830138      0.780352   \n4          0.955314      0.950565      0.961459      0.945953      0.952285   \n...             ...           ...           ...           ...           ...   \n39995      0.520916      0.474161      0.492554      0.479358      0.492087   \n39996      0.614027      0.588607      0.581670      0.692622      0.504424   \n39997      0.742078      0.788279      0.719764      0.718449      0.781666   \n39998      0.716987      0.819962      0.741298      0.846074      0.778603   \n39999      0.672449      0.718111      0.671977      0.502218      0.689648   \n\n       ...  0.6902588526  0.7092127612  0.6706922694  0.6855709925  \\\n0      ...      0.766138      0.779247      0.327731      0.759982   \n1      ...      0.602346      0.499591      0.309518      0.521851   \n2      ...      0.770273      0.775682      0.370162      0.844858   \n3      ...      0.721262      0.718068      0.708552      0.674332   \n4      ...      0.960027      0.984533      0.879385      0.906421   \n...    ...           ...           ...           ...           ...   \n39995  ...      0.548409      0.578763      0.308542      0.428860   \n39996  ...      0.617470      0.541461      0.669970      0.584085   \n39997  ...      0.742763      0.712222      0.336279      0.640871   \n39998  ...      0.736480      0.751111      0.690340      0.739461   \n39999  ...      0.648602      0.604444      0.483145      0.632819   \n\n       0.7114491506  0.6817741142  0.7030287611  0.7331661007  0.6841581492  \\\n0          0.789323      0.782428      0.790650      0.757342      0.781069   \n1          0.623097      0.574567      0.713203      0.603681      0.748823   \n2          0.819129      0.743486      0.800796      0.827598      0.770387   \n3          0.724067      0.675280      0.785302      0.830872      0.710615   \n4          0.941764      0.862694      0.944611      0.947302      0.934213   \n...             ...           ...           ...           ...           ...   \n39995      0.540553      0.424866      0.518174      0.646381      0.523170   \n39996      0.512339      0.545916      0.564931      0.557322      0.567804   \n39997      0.779318      0.821522      0.759289      0.612618      0.755785   \n39998      0.860258      0.783374      0.812915      0.776783      0.747203   \n39999      0.630607      0.561613      0.661813      0.633282      0.635283   \n\n       0.7167146788  \n0          0.847858  \n1          0.544203  \n2          0.834842  \n3          0.774971  \n4          0.952894  \n...             ...  \n39995      0.527779  \n39996      0.451140  \n39997      0.682672  \n39998      0.837260  \n39999      0.671364  \n\n[40000 rows x 5000 columns]",
      "text/html": "<div>\n<style scoped>\n    .dataframe tbody tr th:only-of-type {\n        vertical-align: middle;\n    }\n\n    .dataframe tbody tr th {\n        vertical-align: top;\n    }\n\n    .dataframe thead th {\n        text-align: right;\n    }\n</style>\n<table border=\"1\" class=\"dataframe\">\n  <thead>\n    <tr style=\"text-align: right;\">\n      <th></th>\n      <th>0.7131772137</th>\n      <th>0.6935182933</th>\n      <th>0.7260013220</th>\n      <th>0.7152632882</th>\n      <th>0.7005385368</th>\n      <th>0.6854126675</th>\n      <th>0.7439608123</th>\n      <th>0.6945358038</th>\n      <th>0.7261839834</th>\n      <th>0.6599155304</th>\n      <th>...</th>\n      <th>0.6902588526</th>\n      <th>0.7092127612</th>\n      <th>0.6706922694</th>\n      <th>0.6855709925</th>\n      <th>0.7114491506</th>\n      <th>0.6817741142</th>\n      <th>0.7030287611</th>\n      <th>0.7331661007</th>\n      <th>0.6841581492</th>\n      <th>0.7167146788</th>\n    </tr>\n  </thead>\n  <tbody>\n    <tr>\n      <th>0</th>\n      <td>0.778224</td>\n      <td>0.762953</td>\n      <td>0.764103</td>\n      <td>0.723772</td>\n      <td>0.803894</td>\n      <td>0.784736</td>\n      <td>0.836666</td>\n      <td>0.775778</td>\n      <td>0.774012</td>\n      <td>0.919990</td>\n      <td>...</td>\n      <td>0.766138</td>\n      <td>0.779247</td>\n      <td>0.327731</td>\n      <td>0.759982</td>\n      <td>0.789323</td>\n      <td>0.782428</td>\n      <td>0.790650</td>\n      <td>0.757342</td>\n      <td>0.781069</td>\n      <td>0.847858</td>\n    </tr>\n    <tr>\n      <th>1</th>\n      <td>0.569151</td>\n      <td>0.572876</td>\n      <td>0.562022</td>\n      <td>0.762576</td>\n      <td>0.597722</td>\n      <td>0.646278</td>\n      <td>0.555181</td>\n      <td>0.577722</td>\n      <td>0.652896</td>\n      <td>0.579136</td>\n      <td>...</td>\n      <td>0.602346</td>\n      <td>0.499591</td>\n      <td>0.309518</td>\n      <td>0.521851</td>\n      <td>0.623097</td>\n      <td>0.574567</td>\n      <td>0.713203</td>\n      <td>0.603681</td>\n      <td>0.748823</td>\n      <td>0.544203</td>\n    </tr>\n    <tr>\n      <th>2</th>\n      <td>0.851960</td>\n      <td>0.721607</td>\n      <td>0.894352</td>\n      <td>0.823561</td>\n      <td>0.813720</td>\n      <td>0.798389</td>\n      <td>0.901490</td>\n      <td>0.795233</td>\n      <td>0.823106</td>\n      <td>0.841735</td>\n      <td>...</td>\n      <td>0.770273</td>\n      <td>0.775682</td>\n      <td>0.370162</td>\n      <td>0.844858</td>\n      <td>0.819129</td>\n      <td>0.743486</td>\n      <td>0.800796</td>\n      <td>0.827598</td>\n      <td>0.770387</td>\n      <td>0.834842</td>\n    </tr>\n    <tr>\n      <th>3</th>\n      <td>0.774035</td>\n      <td>0.713205</td>\n      <td>0.569785</td>\n      <td>0.827587</td>\n      <td>0.752170</td>\n      <td>0.763516</td>\n      <td>0.697942</td>\n      <td>0.757559</td>\n      <td>0.830138</td>\n      <td>0.780352</td>\n      <td>...</td>\n      <td>0.721262</td>\n      <td>0.718068</td>\n      <td>0.708552</td>\n      <td>0.674332</td>\n      <td>0.724067</td>\n      <td>0.675280</td>\n      <td>0.785302</td>\n      <td>0.830872</td>\n      <td>0.710615</td>\n      <td>0.774971</td>\n    </tr>\n    <tr>\n      <th>4</th>\n      <td>0.947631</td>\n      <td>0.961040</td>\n      <td>0.915259</td>\n      <td>0.890565</td>\n      <td>0.943416</td>\n      <td>0.955314</td>\n      <td>0.950565</td>\n      <td>0.961459</td>\n      <td>0.945953</td>\n      <td>0.952285</td>\n      <td>...</td>\n      <td>0.960027</td>\n      <td>0.984533</td>\n      <td>0.879385</td>\n      <td>0.906421</td>\n      <td>0.941764</td>\n      <td>0.862694</td>\n      <td>0.944611</td>\n      <td>0.947302</td>\n      <td>0.934213</td>\n      <td>0.952894</td>\n    </tr>\n    <tr>\n      <th>...</th>\n      <td>...</td>\n      <td>...</td>\n      <td>...</td>\n      <td>...</td>\n      <td>...</td>\n      <td>...</td>\n      <td>...</td>\n      <td>...</td>\n      <td>...</td>\n      <td>...</td>\n      <td>...</td>\n      <td>...</td>\n      <td>...</td>\n      <td>...</td>\n      <td>...</td>\n      <td>...</td>\n      <td>...</td>\n      <td>...</td>\n      <td>...</td>\n      <td>...</td>\n      <td>...</td>\n    </tr>\n    <tr>\n      <th>39995</th>\n      <td>0.524607</td>\n      <td>0.475706</td>\n      <td>0.668804</td>\n      <td>0.660779</td>\n      <td>0.597722</td>\n      <td>0.520916</td>\n      <td>0.474161</td>\n      <td>0.492554</td>\n      <td>0.479358</td>\n      <td>0.492087</td>\n      <td>...</td>\n      <td>0.548409</td>\n      <td>0.578763</td>\n      <td>0.308542</td>\n      <td>0.428860</td>\n      <td>0.540553</td>\n      <td>0.424866</td>\n      <td>0.518174</td>\n      <td>0.646381</td>\n      <td>0.523170</td>\n      <td>0.527779</td>\n    </tr>\n    <tr>\n      <th>39996</th>\n      <td>0.466011</td>\n      <td>0.681494</td>\n      <td>0.597660</td>\n      <td>0.604560</td>\n      <td>0.597722</td>\n      <td>0.614027</td>\n      <td>0.588607</td>\n      <td>0.581670</td>\n      <td>0.692622</td>\n      <td>0.504424</td>\n      <td>...</td>\n      <td>0.617470</td>\n      <td>0.541461</td>\n      <td>0.669970</td>\n      <td>0.584085</td>\n      <td>0.512339</td>\n      <td>0.545916</td>\n      <td>0.564931</td>\n      <td>0.557322</td>\n      <td>0.567804</td>\n      <td>0.451140</td>\n    </tr>\n    <tr>\n      <th>39997</th>\n      <td>0.814648</td>\n      <td>0.749162</td>\n      <td>0.767753</td>\n      <td>0.685436</td>\n      <td>0.752170</td>\n      <td>0.742078</td>\n      <td>0.788279</td>\n      <td>0.719764</td>\n      <td>0.718449</td>\n      <td>0.781666</td>\n      <td>...</td>\n      <td>0.742763</td>\n      <td>0.712222</td>\n      <td>0.336279</td>\n      <td>0.640871</td>\n      <td>0.779318</td>\n      <td>0.821522</td>\n      <td>0.759289</td>\n      <td>0.612618</td>\n      <td>0.755785</td>\n      <td>0.682672</td>\n    </tr>\n    <tr>\n      <th>39998</th>\n      <td>0.827715</td>\n      <td>0.745039</td>\n      <td>0.718799</td>\n      <td>0.633344</td>\n      <td>0.803894</td>\n      <td>0.716987</td>\n      <td>0.819962</td>\n      <td>0.741298</td>\n      <td>0.846074</td>\n      <td>0.778603</td>\n      <td>...</td>\n      <td>0.736480</td>\n      <td>0.751111</td>\n      <td>0.690340</td>\n      <td>0.739461</td>\n      <td>0.860258</td>\n      <td>0.783374</td>\n      <td>0.812915</td>\n      <td>0.776783</td>\n      <td>0.747203</td>\n      <td>0.837260</td>\n    </tr>\n    <tr>\n      <th>39999</th>\n      <td>0.701078</td>\n      <td>0.601303</td>\n      <td>0.592509</td>\n      <td>0.655494</td>\n      <td>0.642109</td>\n      <td>0.672449</td>\n      <td>0.718111</td>\n      <td>0.671977</td>\n      <td>0.502218</td>\n      <td>0.689648</td>\n      <td>...</td>\n      <td>0.648602</td>\n      <td>0.604444</td>\n      <td>0.483145</td>\n      <td>0.632819</td>\n      <td>0.630607</td>\n      <td>0.561613</td>\n      <td>0.661813</td>\n      <td>0.633282</td>\n      <td>0.635283</td>\n      <td>0.671364</td>\n    </tr>\n  </tbody>\n</table>\n<p>40000 rows × 5000 columns</p>\n</div>"
     },
     "execution_count": 26,
     "metadata": {},
     "output_type": "execute_result"
    }
   ],
   "source": [
    "submission_df2"
   ],
   "metadata": {
    "collapsed": false
   }
  },
  {
   "cell_type": "markdown",
   "source": [
    "# Start looking at different data cleaning techniques:"
   ],
   "metadata": {
    "collapsed": false
   }
  },
  {
   "cell_type": "code",
   "execution_count": 29,
   "outputs": [],
   "source": [
    "# differentiate the dataset into the one we have lables for and the one we do not have lables for\n",
    "traintest_df = submission_df2.iloc[:int(len(submission_df2)/2)]\n",
    "validation_df = submission_df2.iloc[int(len(submission_df2)/2):]\n",
    "# add targets to the train_df from train_labels:\n",
    "traintest_df = pd.concat([traintest_df, train_labels[\"label\"]], axis=1)\n",
    "\n"
   ],
   "metadata": {
    "collapsed": false
   }
  },
  {
   "cell_type": "markdown",
   "source": [
    "# Do the model training:"
   ],
   "metadata": {
    "collapsed": false
   }
  },
  {
   "cell_type": "code",
   "execution_count": 30,
   "outputs": [],
   "source": [
    "# define the input model data and amek a train test split\n",
    "\n",
    "X, y  = traintest_df.drop(\"label\", axis=1), traintest_df[\"label\"]\n",
    "\n",
    "X_train, X_test, y_train, y_test = train_test_split(X, y, test_size=0.2, random_state=42)\n",
    "\n"
   ],
   "metadata": {
    "collapsed": false
   }
  },
  {
   "cell_type": "code",
   "execution_count": 31,
   "outputs": [
    {
     "name": "stdout",
     "output_type": "stream",
     "text": [
      "(16000, 5000) X_train shape\n",
      "(4000, 5000) X_test shape\n",
      "(16000,)\n",
      "(4000,)\n"
     ]
    }
   ],
   "source": [
    "\n",
    "params = {\n",
    "    'objective': 'binary:logistic',\n",
    "    'eval_metric': 'logloss',\n",
    "    'eta': 0.1,\n",
    "    'max_depth': 6,\n",
    "    'subsample': 0.8,\n",
    "    'colsample_bytree': 0.8,\n",
    "    'min_child_weight': 1,\n",
    "    #set small alpha:\n",
    "    'alpha': 0.1,\n",
    "    'lambda': 1,\n",
    "    'seed': 42\n",
    "}\n",
    "\n",
    "print(X_train.shape, \"X_train shape\")\n",
    "print(X_test.shape, \"X_test shape\")\n",
    "dtrain = xgb.DMatrix(X_train, label=y_train )\n",
    "dtest = xgb.DMatrix(X_test, label=y_test)\n",
    "print(y_train.shape)\n",
    "print(y_test.shape)\n"
   ],
   "metadata": {
    "collapsed": false
   }
  },
  {
   "cell_type": "code",
   "execution_count": 32,
   "outputs": [
    {
     "name": "stdout",
     "output_type": "stream",
     "text": [
      "[0]\ttrain-logloss:0.66313\ttest-logloss:0.66605\n",
      "[5]\ttrain-logloss:0.56827\ttest-logloss:0.58592\n",
      "[10]\ttrain-logloss:0.52053\ttest-logloss:0.55128\n",
      "[15]\ttrain-logloss:0.49150\ttest-logloss:0.53603\n",
      "[20]\ttrain-logloss:0.47152\ttest-logloss:0.52871\n",
      "[25]\ttrain-logloss:0.45708\ttest-logloss:0.52519\n",
      "[30]\ttrain-logloss:0.44613\ttest-logloss:0.52405\n",
      "[35]\ttrain-logloss:0.43485\ttest-logloss:0.52330\n",
      "[40]\ttrain-logloss:0.42673\ttest-logloss:0.52395\n",
      "[45]\ttrain-logloss:0.41920\ttest-logloss:0.52413\n",
      "[50]\ttrain-logloss:0.41000\ttest-logloss:0.52491\n",
      "[55]\ttrain-logloss:0.40305\ttest-logloss:0.52552\n",
      "[60]\ttrain-logloss:0.39121\ttest-logloss:0.52646\n",
      "[65]\ttrain-logloss:0.38300\ttest-logloss:0.52753\n",
      "[70]\ttrain-logloss:0.37366\ttest-logloss:0.52788\n",
      "[75]\ttrain-logloss:0.36421\ttest-logloss:0.52818\n",
      "[80]\ttrain-logloss:0.35633\ttest-logloss:0.52889\n",
      "[84]\ttrain-logloss:0.34960\ttest-logloss:0.52951\n"
     ]
    }
   ],
   "source": [
    "# print output for each 50th iteration:\n",
    "watchlist = [(dtrain, 'train'), (dtest, 'test')]\n",
    "with mlflow.start_run():\n",
    "    evals_result = {}\n",
    "    model = xgb.train(params, dtrain, num_boost_round=1000, evals=watchlist,evals_result = evals_result, verbose_eval=5, early_stopping_rounds=50)\n",
    "    y_pred = model.predict(dtest)"
   ],
   "metadata": {
    "collapsed": false
   }
  },
  {
   "cell_type": "code",
   "execution_count": 33,
   "outputs": [],
   "source": [
    "# calculate accuracy using round:\n",
    "y_pred_round = np.round(y_pred)\n",
    "accuracy = accuracy_score(y_test, y_pred_round)\n",
    "\n",
    "\n",
    "logloss = log_loss(y_test, y_pred)"
   ],
   "metadata": {
    "collapsed": false
   }
  },
  {
   "cell_type": "code",
   "execution_count": 34,
   "outputs": [
    {
     "data": {
      "text/plain": "<Figure size 640x480 with 1 Axes>",
      "image/png": "[encoded data removed]"
     },
     "metadata": {},
     "output_type": "display_data"
    }
   ],
   "source": [
    "\n",
    "# plot logloss over time for train and test sets:\n",
    "plt.plot(evals_result['train']['logloss'], label='train logloss')\n",
    "plt.plot(evals_result['test']['logloss'], label='test logloss')\n",
    "\n",
    "\n",
    "plt.legend()\n",
    "plt.show()\n",
    "\n"
   ],
   "metadata": {
    "collapsed": false
   }
  },
  {
   "cell_type": "code",
   "execution_count": 35,
   "outputs": [
    {
     "name": "stdout",
     "output_type": "stream",
     "text": [
      "34\n"
     ]
    }
   ],
   "source": [
    "\n",
    "best_iteration = model.best_iteration\n",
    "print(best_iteration)\n",
    "\n",
    "\n",
    "\n"
   ],
   "metadata": {
    "collapsed": false
   }
  },
  {
   "cell_type": "code",
   "execution_count": 36,
   "outputs": [
    {
     "name": "stderr",
     "output_type": "stream",
     "text": [
      "/Users/m98612/venv/fradrag2021/lib/python3.9/site-packages/xgboost/core.py:122: UserWarning: ntree_limit is deprecated, use `iteration_range` or model slicing instead.\n",
      "  warnings.warn(\n",
      "/var/folders/9_/syprsqwd263_tvl61_yf9pwm0000gn/T/ipykernel_63042/1632241534.py:2: SettingWithCopyWarning: \n",
      "A value is trying to be set on a copy of a slice from a DataFrame.\n",
      "Try using .loc[row_indexer,col_indexer] = value instead\n",
      "\n",
      "See the caveats in the documentation: https://pandas.pydata.org/pandas-docs/stable/user_guide/indexing.html#returning-a-view-versus-a-copy\n",
      "  validation_df[\"pred\"]= model.predict(xgb.DMatrix(test_df), ntree_limit=best_iteration)\n",
      "/var/folders/9_/syprsqwd263_tvl61_yf9pwm0000gn/T/ipykernel_63042/1632241534.py:3: SettingWithCopyWarning: \n",
      "A value is trying to be set on a copy of a slice from a DataFrame.\n",
      "Try using .loc[row_indexer,col_indexer] = value instead\n",
      "\n",
      "See the caveats in the documentation: https://pandas.pydata.org/pandas-docs/stable/user_guide/indexing.html#returning-a-view-versus-a-copy\n",
      "  validation_df[\"id\"] = validation_df.index\n"
     ]
    }
   ],
   "source": [
    "#Prep the submission format:\n",
    "validation_df[\"pred\"]= model.predict(xgb.DMatrix(test_df), ntree_limit=best_iteration)\n",
    "validation_df[\"id\"] = validation_df.index\n",
    "\n",
    "#save to file:\n",
    "validation_df[[\"id\", \"pred\"]].to_csv(\"results/submission.csv\", index=False)"
   ],
   "metadata": {
    "collapsed": false
   }
  },
  {
   "cell_type": "markdown",
   "source": [
    "# Test of Hyperopt"
   ],
   "metadata": {
    "collapsed": false
   }
  },
  {
   "cell_type": "code",
   "execution_count": 114,
   "outputs": [
    {
     "ename": "ModuleNotFoundError",
     "evalue": "No module named 'hyperopt'",
     "output_type": "error",
     "traceback": [
      "\u001B[0;31m---------------------------------------------------------------------------\u001B[0m",
      "\u001B[0;31mModuleNotFoundError\u001B[0m                       Traceback (most recent call last)",
      "Cell \u001B[0;32mIn [114], line 1\u001B[0m\n\u001B[0;32m----> 1\u001B[0m \u001B[38;5;28;01mfrom\u001B[39;00m \u001B[38;5;21;01mhyperopt\u001B[39;00m \u001B[38;5;28;01mimport\u001B[39;00m fmin, tpe, hp, SparkTrials, Trials, STATUS_OK\n\u001B[1;32m      2\u001B[0m \u001B[38;5;28;01mfrom\u001B[39;00m \u001B[38;5;21;01mhyperopt\u001B[39;00m\u001B[38;5;21;01m.\u001B[39;00m\u001B[38;5;21;01mpyll\u001B[39;00m \u001B[38;5;28;01mimport\u001B[39;00m scope\n\u001B[1;32m      4\u001B[0m search_space \u001B[38;5;241m=\u001B[39m {\n\u001B[1;32m      5\u001B[0m     \u001B[38;5;124m\"\u001B[39m\u001B[38;5;124mobjective\u001B[39m\u001B[38;5;124m\"\u001B[39m: \u001B[38;5;124m\"\u001B[39m\u001B[38;5;124mbinary:logistic\u001B[39m\u001B[38;5;124m\"\u001B[39m,  \u001B[38;5;66;03m# objective\u001B[39;00m\n\u001B[1;32m      6\u001B[0m     \u001B[38;5;124m\"\u001B[39m\u001B[38;5;124meta\u001B[39m\u001B[38;5;124m\"\u001B[39m: hp\u001B[38;5;241m.\u001B[39mloguniform(\u001B[38;5;124m\"\u001B[39m\u001B[38;5;124mlearning_rate\u001B[39m\u001B[38;5;124m\"\u001B[39m, \u001B[38;5;241m-\u001B[39m\u001B[38;5;241m4\u001B[39m, \u001B[38;5;241m-\u001B[39m\u001B[38;5;241m1.2\u001B[39m),  \u001B[38;5;66;03m# learning rate\u001B[39;00m\n\u001B[0;32m   (...)\u001B[0m\n\u001B[1;32m     29\u001B[0m     \u001B[38;5;124m\"\u001B[39m\u001B[38;5;124mseed\u001B[39m\u001B[38;5;124m\"\u001B[39m: \u001B[38;5;241m41\u001B[39m,\n\u001B[1;32m     30\u001B[0m }\n",
      "\u001B[0;31mModuleNotFoundError\u001B[0m: No module named 'hyperopt'"
     ]
    }
   ],
   "source": [
    "\n",
    "search_space = {\n",
    "    \"objective\": \"binary:logistic\",  # objective\n",
    "    \"eta\": hp.loguniform(\"learning_rate\", -4, -1.2),  # learning rate\n",
    "    \"min_child_weight\": hp.loguniform(\n",
    "        \"min_child_weight\", -1, 3\n",
    "    ),  # minimum sum of weights of all observations required in child.\n",
    "    \"max_depth\": scope.int(hp.quniform(\"max_depth\", 4, 50, 1)),\n",
    "    \"subsample\": hp.loguniform(\n",
    "        \"subsample\", -0.91, 0\n",
    "    ),  # fraction of observations to be randomly samples for each tree.\n",
    "    \"colsample_bytree\": hp.loguniform(\n",
    "        \"colsample_bytree\", -0.91, 0\n",
    "    ),  # fraction of columns to be randomly sampled for each tree.\n",
    "    \"colsample_bylevel\": hp.loguniform(\n",
    "        \"colsample_bylevel\", -0.91, 0\n",
    "    ),  # subsample ratio of columns for each split, in each level.\n",
    "    \"lambda\": hp.loguniform(\n",
    "        \"lambda\", -4, 0\n",
    "    ),  # L2 regularization term on weights (Ridge)\n",
    "    \"alpha\": hp.loguniform(\n",
    "        \"alpha\", -4, -1.2\n",
    "    ),  # L1 regularization term on weight (Lasso)\n",
    "    \"gamma\": hp.loguniform(\n",
    "        \"gamma\", -6, 2.7\n",
    "    ),  # minimum loss reduction required to make a split\n",
    "    \"seed\": 41,\n",
    "}\n",
    "\n",
    "\n",
    "def objective(search_space):\n",
    "    \"\"\"\n",
    "    Encapsulated objective-function such that hyperopt function can reach input-data in objective function\n",
    "    \"\"\"\n",
    "    dtrain = xgb.DMatrix(X_train.copy(), label=y_train)\n",
    "    dtest = xgb.DMatrix(X_test.copy(), label=y_test)\n",
    "\n",
    "    watchlist = [(dtrain, 'train'), (dtest, 'test')]\n",
    "    verbose_eval = 50\n",
    "    with mlflow.start_run(nested=True):\n",
    "        search_space[\"eval_metric\"] = [\"error\", \"auc\", \"logloss\"]\n",
    "        num_round = 3000\n",
    "        evals_result = {}\n",
    "        num_features = 80\n",
    "        bst = xgb.train(\n",
    "            search_space,\n",
    "            dtrain,\n",
    "            num_round,\n",
    "            evals=watchlist,\n",
    "            evals_result=evals_result,\n",
    "            early_stopping_rounds=100,\n",
    "            verbose_eval=verbose_eval,\n",
    "        )\n",
    "        print(f\"Stopping after {len(evals_result['train']['error'])} rounds\")\n",
    "\n",
    "\n",
    "        min_logloss_error= np.min(evals_result[\"eval\"][\"logloss\"])\n",
    "        mlflow.xgboost.log_model(bst, artifact_path=\"model\")\n",
    "\n",
    "        return {\n",
    "            \"status\": STATUS_OK,\n",
    "            \"loss\": min_logloss_error,\n",
    "            \"booster\": bst.attributes(),\n",
    "        }\n",
    "\n"
   ],
   "metadata": {
    "collapsed": false
   }
  },
  {
   "cell_type": "code",
   "execution_count": null,
   "outputs": [],
   "source": [
    "#\n",
    "mlflow.set_tracking_uri(\"http://localhost:5000\")\n",
    "mlflow.xgboost.autolog(\n",
    "    log_input_examples=False, log_model_signatures=True, log_models=True\n",
    ")\n",
    "\n",
    "\n",
    "with mlflow.start_run(run_name=f\"xgb_{ds_short}\"):\n",
    "    best_params = fmin(\n",
    "        fn=objective,\n",
    "        space=search_space,\n",
    "        algo=tpe.suggest,\n",
    "        max_evals=100,\n",
    "    )\n"
   ],
   "metadata": {
    "collapsed": false
   }
  }
 ],
 "metadata": {
  "kernelspec": {
   "name": "python3",
   "language": "python",
   "display_name": "Python 3 (ipykernel)"
  },
  "language_info": {
   "codemirror_mode": {
    "name": "ipython",
    "version": 2
   },
   "file_extension": ".py",
   "mimetype": "text/x-python",
   "name": "python",
   "nbconvert_exporter": "python",
   "pygments_lexer": "ipython2",
   "version": "2.7.6"
  }
 },
 "nbformat": 4,
 "nbformat_minor": 0
}
